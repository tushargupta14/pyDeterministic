{
 "cells": [
  {
   "cell_type": "code",
   "execution_count": 2,
   "metadata": {
    "collapsed": true,
    "deletable": true,
    "editable": true
   },
   "outputs": [],
   "source": [
    "### Consists of odeint for all forward integeration\n",
    "## This is the third testing script\n",
    "## This is the final implementation of Deterministic model\n",
    "\n",
    "\n",
    "import numpy as np\n",
    "from scipy.integrate import odeint\n",
    "from y_ODE import *\n",
    "from z_ODE import *\n",
    "from DH_dy import *\n",
    "from DH_dz import *\n",
    "from theta_ODE import *\n",
    "from fi_ODE import *\n",
    "from utilities import *\n",
    "import matplotlib.pyplot as plt\n",
    "from check_constraint import *\n",
    "import math\n",
    "\n",
    "\n",
    "\n"
   ]
  },
  {
   "cell_type": "code",
   "execution_count": 8,
   "metadata": {
    "collapsed": true,
    "deletable": true,
    "editable": true
   },
   "outputs": [],
   "source": [
    "def model(parameters,delta_t = 1,):\n",
    "\n",
    "\n",
    "    t0 = 0\n",
    "    tf = 1800  ## batch_time\n",
    "\n",
    "    kg = parameters[\"kg\"]\n",
    "    Eg = parameters[\"Eg\"]\n",
    "    g = parameters[\"g\"]\n",
    "    kb = parameters[\"kb\"]\n",
    "    Eb = parameters[\"Eb\"]\n",
    "    b = parameters[\"b\"]\n",
    "    #rho = parameters[\"rho\"]\n",
    "\n",
    "\n",
    "    y0 = np.array([0.1743,66.66,1.83*10**4,5.05*10**6,1.93*10**9,0.867,0,0,0])\n",
    "    y0 = y0.reshape(1,-1)\n",
    "    zf = np.array([0,0,0,0,1,0,0,0,-1])\n",
    "    zf = zf.reshape(1,-1)\n",
    "    theta0 = np.array([0,0,0,0,0,0,0,0,0])\n",
    "    theta0 = theta0.reshape(1,-1)\n",
    "    fi_f = np.array([0,0,0,0,0,0,0,0,0])\n",
    "    fi_f = fi_f.reshape(1,-1)\n",
    "\n",
    "    M = -10**-6\n",
    "    tolerance = 10**-2\n",
    "\n",
    "    num_iter = 2\n",
    "\n",
    "    time_length = len(range(t0,tf+delta_t,delta_t))\n",
    "    T_vec = np.ones(time_length)*323\n",
    "    DH_vec = np.zeros((num_iter,time_length))\n",
    "\n",
    "\n",
    "\n",
    "    iteration = 0\n",
    "\n",
    "\n",
    "    print y0.shape\n",
    "\n",
    "\n",
    "    while(iteration < num_iter) :\n",
    "\n",
    "\n",
    "        print iteration\n",
    "        y_mat = np.zeros((time_length,9))\n",
    "        z_mat = np.zeros((time_length,9))\n",
    "        theta_mat = np.zeros((time_length,9))\n",
    "        fi_mat = np.zeros((time_length,9))\n",
    "\n",
    "        DelH_dy_mat = np.zeros((time_length,9))\n",
    "        DelH_dz_mat = np.zeros((time_length,9))\n",
    "\n",
    "        y_mat[0,:] = y0\n",
    "        #print y_mat[0,0]\n",
    "        z_mat[0,:] = zf\n",
    "        theta_mat[0,:] = theta0\n",
    "        fi_mat[0,:] = fi_f\n",
    "\n",
    "\n",
    "        print \"y forward integration\"\n",
    "        for t in range(t0,tf,delta_t) :\n",
    "\n",
    "            t_horizon = np.linspace(t,t+delta_t,num = 10)\n",
    "            T = T_vec[t]\n",
    "            C = y_mat[t,0]\n",
    "            G = calG(T,C,parameters)\n",
    "            B = calB(y_mat[t,:],T,parameters)\n",
    "\n",
    "\n",
    "            y = odeint(y_ODE,y_mat[t,:],t_horizon,args = (T,C,G,B,parameters))\n",
    "\n",
    "            y_mat[t+delta_t,:] = y[-1,:]\n",
    "\n",
    "        print \"Z backward ...\"\n",
    "        for t in range(t0,tf,delta_t):\n",
    "\n",
    "            T = T_vec[t]\n",
    "            C = y_mat[t,0]\n",
    "            G = calG(T,C,parameters)\n",
    "\n",
    "            t_horizon = np.linspace(t,t+delta_t,num = 10)\n",
    "            z = odeint(z_ODE,z_mat[t,:],t_horizon,args = (G,parameters,T,y_mat[t,:]))\n",
    "            z_mat[t+delta_t,:] = z[-1,:]\n",
    "\n",
    "        print \"DH ..\"\n",
    "        for t in range(t0,tf+delta_t,delta_t):\n",
    "\n",
    "\n",
    "            T = T_vec[t]\n",
    "            G = calG(T,C,parameters)\n",
    "\n",
    "            DelH_dy_mat[t,:] = DH_dy(y_mat[t,:],z_mat[t,:],G,T,parameters)\n",
    "            DelH_dz_mat[t,:] = DH_dz(T,y_mat[t,:],parameters)\n",
    "\n",
    "        print \" Theta forward integration..\"\n",
    "        for t in range(t0,tf,delta_t) :\n",
    "\n",
    "            T = T_vec[t]\n",
    "            t_horizon = np.linspace(t,t+delta_t,num = 10)\n",
    "            theta = odeint(theta_ODE,theta_mat[t,:],t_horizon,args = (y_mat[t,:],T,parameters))\n",
    "\n",
    "            theta_mat[t+delta_t,:] = theta[-1,:]\n",
    "\n",
    "        print \"Fi backward ..\"\n",
    "        for t in range(t0,tf,delta_t):\n",
    "\n",
    "            T = T_vec[t]\n",
    "            t_horizon = np.linspace(t,t+delta_t,num = 10)\n",
    "\n",
    "\n",
    "            fi = odeint(fi_ODE,fi_mat[t,:],t_horizon,args = (y_mat[t,:],z_mat[t,:],theta_mat[t,:],T,parameters))\n",
    "            #print z[-1,0]\n",
    "            fi_mat[t+delta_t,:] = fi[-1,:]\n",
    "\n",
    "        print \"Derivative sums....\"\n",
    "        for t in range(t0,tf+delta_t,delta_t) :\n",
    "            var_sum = 0\n",
    "\n",
    "            for i in range(9):\n",
    "                var_sum +=  DelH_dy_mat[t,i]*theta_mat[t,i] + DelH_dz_mat[t,i]*fi_mat[t,i]\n",
    "                ## + +\n",
    "            DH_vec[iteration,t] = var_sum\n",
    "\n",
    "        print \"check constraints....\"\n",
    "        for t in range(t0,tf+delta_t,delta_t) :\n",
    "\n",
    "            if abs(DH_vec[iteration,t]) > tolerance :\n",
    "\n",
    "                #print \"Here\"\n",
    "                T_vec[t] = check_constraint(T_vec[t],y_mat[t,0],DH_vec[iteration,t],M)\n",
    "\n",
    "\n",
    "        plt_1 =  DH_vec[iteration,:]\n",
    "\n",
    "\n",
    "        ## Plotting function\n",
    "\n",
    "        t = np.linspace(t0,tf,num = 1801)\n",
    "        plt.figure(0)\n",
    "        plt.plot(t,plt_1,'b')\n",
    "        #plt.show()\n",
    "        plt.figure(1)\n",
    "        plt.plot(t,T_vec)\n",
    "        plt.figure(2)\n",
    "        plt.plot(t,y_mat[:,4]-y_mat[:,8])\n",
    "        plt.show()\n",
    "        plt.cla()\n",
    "\n",
    "\n",
    "\n",
    "        iteration+=1\n",
    "\n",
    "\n",
    "    #print T_vec\n",
    "    \"\"\"\n",
    "    plt_1 =  T_vec\n",
    "\n",
    "    ## Plotting function\n",
    "\n",
    "    t = np.linspace(t0,tf,num = 1801)\n",
    "    #plt.plot(t,plt_1,'r')\n",
    "    plt.figure(0)\n",
    "    plt.plot(t,plt_1,'b')\n",
    "    #plt.show()\n",
    "    #plt.figure(1)\n",
    "    #plt.plot(t,T_vec)\n",
    "    plt.show()\n",
    "    \"\"\"\n",
    "    return T_vec,y_mat\n"
   ]
  },
  {
   "cell_type": "code",
   "execution_count": 9,
   "metadata": {
    "collapsed": false,
    "deletable": true,
    "editable": true
   },
   "outputs": [
    {
     "name": "stdout",
     "output_type": "stream",
     "text": [
      "(1, 9)\n",
      "0\n",
      "y forward integration\n",
      "Z backward ...\n",
      "DH ..\n",
      " Theta forward integration..\n",
      "Fi backward ..\n",
      "Derivative sums....\n",
      "check constraints....\n",
      "1\n",
      "y forward integration\n",
      "Z backward ...\n",
      "DH ..\n",
      " Theta forward integration..\n",
      "Fi backward ..\n",
      "Derivative sums....\n",
      "check constraints....\n"
     ]
    }
   ],
   "source": [
    "parameters = {}\n",
    "parameters[\"kg\"] = 1.44*10**8\n",
    "parameters[\"Eg\"] = 4859\n",
    "parameters[\"g\"] = 1.5\n",
    "parameters[\"kb\"] = 285\n",
    "parameters[\"Eb\"] = 7517\n",
    "parameters[\"b\"] = 1.45\n",
    "parameters[\"rho\"] = 2.66*10**-12;\n",
    "parameters[\"kv\"] = 0.54\n",
    "T_vec,y_mat = model(parameters)"
   ]
  },
  {
   "cell_type": "code",
   "execution_count": 15,
   "metadata": {
    "collapsed": false,
    "deletable": true,
    "editable": true
   },
   "outputs": [
    {
     "data": {
      "text/plain": [
       "1801"
      ]
     },
     "execution_count": 15,
     "metadata": {},
     "output_type": "execute_result"
    }
   ],
   "source": [
    "len(T_vec)\n"
   ]
  },
  {
   "cell_type": "code",
   "execution_count": 16,
   "metadata": {
    "collapsed": false,
    "deletable": true,
    "editable": true
   },
   "outputs": [],
   "source": [
    "out = open(\"values.txt\",\"wb+\")\n",
    "\n",
    "for i in range(len(T_vec)):\n",
    "    out.write(str(T_vec[i])+'\\n')\n",
    "    \n",
    "    "
   ]
  },
  {
   "cell_type": "markdown",
   "metadata": {},
   "source": [
    "### Testing for plot drawer"
   ]
  },
  {
   "cell_type": "code",
   "execution_count": 1,
   "metadata": {
    "collapsed": false
   },
   "outputs": [
    {
     "ename": "ImportError",
     "evalue": "No module named PlotDrawer",
     "output_type": "error",
     "traceback": [
      "\u001b[1;31m---------------------------------------------------------------------------\u001b[0m",
      "\u001b[1;31mImportError\u001b[0m                               Traceback (most recent call last)",
      "\u001b[1;32m<ipython-input-1-fe3c401c292b>\u001b[0m in \u001b[0;36m<module>\u001b[1;34m()\u001b[0m\n\u001b[1;32m----> 1\u001b[1;33m \u001b[1;32mimport\u001b[0m \u001b[0mPlotDrawer\u001b[0m\u001b[1;33m\u001b[0m\u001b[0m\n\u001b[0m",
      "\u001b[1;31mImportError\u001b[0m: No module named PlotDrawer"
     ]
    }
   ],
   "source": [
    "import PlotDrawer\n"
   ]
  }
 ],
 "metadata": {
  "kernelspec": {
   "display_name": "Python [Root]",
   "language": "python",
   "name": "Python [Root]"
  },
  "language_info": {
   "codemirror_mode": {
    "name": "ipython",
    "version": 2
   },
   "file_extension": ".py",
   "mimetype": "text/x-python",
   "name": "python",
   "nbconvert_exporter": "python",
   "pygments_lexer": "ipython2",
   "version": "2.7.12"
  }
 },
 "nbformat": 4,
 "nbformat_minor": 2
}
