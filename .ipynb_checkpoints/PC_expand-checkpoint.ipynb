{
 "cells": [
  {
   "cell_type": "code",
   "execution_count": 19,
   "metadata": {
    "collapsed": false
   },
   "outputs": [],
   "source": [
    "import chaospy as cp \n",
    "import numpy as np \n",
    "import matplotlib.pyplot as plt\n",
    "from tqdm import tqdm_notebook"
   ]
  },
  {
   "cell_type": "code",
   "execution_count": 10,
   "metadata": {
    "collapsed": true
   },
   "outputs": [],
   "source": [
    "import numpy as np\n",
    "from scipy.integrate import odeint\n",
    "from y_ODE import *\n",
    "from z_ODE import *\n",
    "from DH_dy import * \n",
    "from DH_dz import * \n",
    "from theta_ODE import *\n",
    "from fi_ODE import *\n",
    "from utilities import *\n",
    "import matplotlib.pyplot as plt \n",
    "from check_constraint import *\n",
    "import math\n",
    "\n",
    "\n",
    "   \n",
    "def model(kg,Eg,g,kb,Eb,b):\n",
    "\n",
    "    delta_t = 1\n",
    "    t0 = 0\n",
    "    tf = 1800  ## batch_time\n",
    "\n",
    "    parameters = {}\n",
    "    parameters[\"kg\"] = kg\n",
    "    parameters[\"Eg\"] = Eg \n",
    "    parameters[\"g\"] = g\n",
    "    parameters[\"kb\"] = kb\n",
    "    parameters[\"Eb\"] = Eb\n",
    "    parameters[\"b\"] = b\n",
    "    parameters[\"rho\"] = 2.66*10**-12;\n",
    "    parameters[\"kv\"] = 0.54\n",
    "    #rho = parameters[\"rho\"]\n",
    "\n",
    "\n",
    "    y0 = np.array([0.1743,66.66,1.83*10**4,5.05*10**6,1.93*10**9,0.867,0,0,0])\n",
    "    y0 = y0.reshape(1,-1)\n",
    "    zf = np.array([0,0,0,0,1,0,0,0,-1])\n",
    "    zf = zf.reshape(1,-1)\n",
    "    theta0 = np.array([0,0,0,0,0,0,0,0,0])\n",
    "    theta0 = theta0.reshape(1,-1)\n",
    "    fi_f = np.array([0,0,0,0,0,0,0,0,0])\n",
    "    fi_f = fi_f.reshape(1,-1)\n",
    "\n",
    "    M = -10**-6\n",
    "    tolerance = 10**-2\n",
    "\n",
    "    num_iter = 2\n",
    "\n",
    "    time_length = len(range(t0,tf+delta_t,delta_t))\n",
    "    T_vec = np.ones(time_length)*323\n",
    "    DH_vec = np.zeros((num_iter,time_length))\n",
    "\n",
    "\n",
    "\n",
    "    iteration = 0\n",
    "\n",
    "\n",
    "    #print y0.shape\n",
    "\n",
    "\n",
    "    while(iteration < num_iter) :\n",
    "\n",
    "\n",
    "        y_mat = np.zeros((time_length,9))\n",
    "        z_mat = np.zeros((time_length,9))\n",
    "        theta_mat = np.zeros((time_length,9))\n",
    "        fi_mat = np.zeros((time_length,9))\n",
    "\n",
    "        DelH_dy_mat = np.zeros((time_length,9))\n",
    "        DelH_dz_mat = np.zeros((time_length,9))\n",
    "\n",
    "        y_mat[0,:] = y0\n",
    "        #print y_mat[0,0]\n",
    "        z_mat[0,:] = zf\n",
    "        theta_mat[0,:] = theta0\n",
    "        fi_mat[0,:] = fi_f\n",
    "\n",
    "\n",
    "        #print \"y forward integration\"\n",
    "        for t in range(t0,tf,delta_t) :\n",
    "\n",
    "            t_horizon = np.linspace(t,t+delta_t,num = 10)\n",
    "            T = T_vec[t]\n",
    "            C = y_mat[t,0]\n",
    "            G = calG(T,C,parameters)\n",
    "            B = calB(y_mat[t,:],T,parameters)\n",
    "\n",
    "\n",
    "            y = odeint(y_ODE,y_mat[t,:],t_horizon,args = (T,C,G,B,parameters))\n",
    "\n",
    "            y_mat[t+delta_t,:] = y[-1,:]\n",
    "\n",
    "        #print \"Z backward ...\"\n",
    "        for t in range(t0,tf,delta_t):\n",
    "\n",
    "            T = T_vec[t]\n",
    "            C = y_mat[t,0]\n",
    "            G = calG(T,C,parameters)\n",
    "\n",
    "            t_horizon = np.linspace(t,t+delta_t,num = 10)\n",
    "            z = odeint(z_ODE,z_mat[t,:],t_horizon,args = (G,parameters,T,y_mat[t,:]))\n",
    "            z_mat[t+delta_t,:] = z[-1,:]\n",
    "\n",
    "        #print \"DH ..\"\n",
    "        for t in range(t0,tf+delta_t,delta_t):\n",
    "\n",
    "\n",
    "            T = T_vec[t]\n",
    "            G = calG(T,C,parameters)\n",
    "\n",
    "            DelH_dy_mat[t,:] = DH_dy(y_mat[t,:],z_mat[t,:],G,T,parameters)\n",
    "            DelH_dz_mat[t,:] = DH_dz(T,y_mat[t,:],parameters)\n",
    "\n",
    "        #print \" Theta forward integration..\"\n",
    "        for t in range(t0,tf,delta_t) :\n",
    "\n",
    "            T = T_vec[t]\n",
    "            t_horizon = np.linspace(t,t+delta_t,num = 10)\n",
    "            theta = odeint(theta_ODE,theta_mat[t,:],t_horizon,args = (y_mat[t,:],T,parameters))\n",
    "\n",
    "            theta_mat[t+delta_t,:] = theta[-1,:]\n",
    "\n",
    "        #print \"Fi backward ..\"\n",
    "        for t in range(t0,tf,delta_t):\n",
    "\n",
    "            T = T_vec[t]\n",
    "            t_horizon = np.linspace(t,t+delta_t,num = 10)\n",
    "\n",
    "\n",
    "            fi = odeint(fi_ODE,fi_mat[t,:],t_horizon,args = (y_mat[t,:],z_mat[t,:],theta_mat[t,:],T,parameters))\n",
    "            #print z[-1,0]\t\t\t\n",
    "            fi_mat[t+delta_t,:] = fi[-1,:]\n",
    "\n",
    "        #print \"Derivative sums....\"\n",
    "        for t in range(t0,tf+delta_t,delta_t) :\n",
    "            var_sum = 0 \n",
    "\n",
    "            for i in range(9):\n",
    "                var_sum +=  DelH_dy_mat[t,i]*theta_mat[t,i] + DelH_dz_mat[t,i]*fi_mat[t,i] \n",
    "                ## + +  \n",
    "            DH_vec[iteration,t] = var_sum\n",
    "\n",
    "        #print \"check constraints....\"\n",
    "        for t in range(t0,tf+delta_t,delta_t) :\n",
    "\n",
    "            if abs(DH_vec[iteration,t]) > tolerance :\n",
    "\n",
    "                #print \"Here\"\n",
    "                T_vec[t] = check_constraint(T_vec[t],y_mat[t,0],DH_vec[iteration,t],M)\n",
    "\n",
    "\n",
    "        plt_1 =  DH_vec[iteration,:]\n",
    "\n",
    "\n",
    "        ## Plotting function \n",
    "        \"\"\"\n",
    "        t = np.linspace(t0,tf,num = 1801)\n",
    "        plt.figure(0)\n",
    "        plt.plot(t,plt_1,'b')\n",
    "        #plt.show()\n",
    "        plt.figure(1)\n",
    "        plt.plot(t,T_vec)\n",
    "        plt.figure(2)\n",
    "        plt.plot(t,y_mat[:,4]-y_mat[:,8])\n",
    "        plt.show()\n",
    "        plt.cla()\n",
    "\n",
    "        \"\"\"\n",
    "\n",
    "        iteration+=1\n",
    "        print \"Iteration:\",iteration\n",
    "    \n",
    "\n",
    "    return T_vec,y_mat"
   ]
  },
  {
   "cell_type": "code",
   "execution_count": 23,
   "metadata": {
    "collapsed": true
   },
   "outputs": [],
   "source": [
    "cp.seed(1)\n",
    "\n",
    "dist_kg = cp.Uniform(1.368*10**8,1.512*10**8)\n",
    "dist_Eg = cp.Uniform(4616,5101)\n",
    "dist_g = cp.Uniform(1.425,1.575)\n",
    "dist_kb = cp.Uniform(270,299)\n",
    "dist_Eb = cp.Uniform(7141,7892)\n",
    "dist_b = cp.Uniform(1.3775,1.5225)"
   ]
  },
  {
   "cell_type": "code",
   "execution_count": 24,
   "metadata": {
    "collapsed": false
   },
   "outputs": [],
   "source": [
    "dist = cp.J(dist_kg,dist_Eg,dist_g,dist_kb,dist_Eb,dist_b)\n",
    "P = cp.orth_ttr(1,dist)\n",
    "nodes , weights = cp. generate_quadrature (2, dist)\n"
   ]
  },
  {
   "cell_type": "code",
   "execution_count": 25,
   "metadata": {
    "collapsed": false
   },
   "outputs": [
    {
     "data": {
      "text/plain": [
       "729"
      ]
     },
     "execution_count": 25,
     "metadata": {},
     "output_type": "execute_result"
    }
   ],
   "source": [
    "len(nodes[0])"
   ]
  },
  {
   "cell_type": "markdown",
   "metadata": {},
   "source": [
    "sanples_u = []\n"
   ]
  },
  {
   "cell_type": "code",
   "execution_count": 14,
   "metadata": {
    "collapsed": true
   },
   "outputs": [],
   "source": [
    "samples_u = []\n",
    "samples_T = []"
   ]
  },
  {
   "cell_type": "code",
   "execution_count": null,
   "metadata": {
    "collapsed": true
   },
   "outputs": [],
   "source": [
    "i = 0 \n",
    "for node in nodes.T:\n",
    "    print i \n",
    "    T_vec,y_mat = model(node[0],node[1],node[2],node[3],node[4],node[5])\n",
    "    samples_u.append(y_mat)\n",
    "    samples_T.append(T_vec)\n",
    "    i+=1"
   ]
  },
  {
   "cell_type": "code",
   "execution_count": 21,
   "metadata": {
    "collapsed": false
   },
   "outputs": [
    {
     "name": "stdout",
     "output_type": "stream",
     "text": [
      "Iteration: 1\n",
      "Iteration: 2\n",
      "Iteration: 1\n",
      "Iteration: 2\n",
      "Iteration: 1\n",
      "Iteration: 2\n",
      "Iteration: 1\n",
      "Iteration: 2\n",
      "Iteration: 1\n",
      "Iteration: 2\n",
      "Iteration: 1\n",
      "Iteration: 2\n",
      "Iteration: 1\n",
      "Iteration: 2\n",
      "Iteration: 1\n",
      "Iteration: 2\n",
      "Iteration: 1\n",
      "Iteration: 2\n",
      "Iteration: 1\n",
      "Iteration: 2\n",
      "Iteration: 1\n",
      "Iteration: 2\n",
      "Iteration: 1\n",
      "Iteration: 2\n",
      "Iteration: 1\n",
      "Iteration: 2\n",
      "Iteration: 1\n",
      "Iteration: 2\n",
      "Iteration: 1\n",
      "Iteration: 2\n",
      "Iteration: 1\n",
      "\n"
     ]
    },
    {
     "ename": "KeyboardInterrupt",
     "evalue": "",
     "output_type": "error",
     "traceback": [
      "\u001b[1;31m---------------------------------------------------------------------------\u001b[0m",
      "\u001b[1;31mKeyboardInterrupt\u001b[0m                         Traceback (most recent call last)",
      "\u001b[1;32m<ipython-input-21-8d3500656217>\u001b[0m in \u001b[0;36m<module>\u001b[1;34m()\u001b[0m\n\u001b[0;32m      4\u001b[0m     \u001b[1;32mfor\u001b[0m \u001b[0mnode\u001b[0m \u001b[1;32min\u001b[0m \u001b[0mnodes\u001b[0m\u001b[1;33m.\u001b[0m\u001b[0mT\u001b[0m\u001b[1;33m:\u001b[0m\u001b[1;33m\u001b[0m\u001b[0m\n\u001b[0;32m      5\u001b[0m         \u001b[1;31m#print i\u001b[0m\u001b[1;33m\u001b[0m\u001b[1;33m\u001b[0m\u001b[0m\n\u001b[1;32m----> 6\u001b[1;33m         \u001b[0mT_vec\u001b[0m\u001b[1;33m,\u001b[0m\u001b[0my_mat\u001b[0m \u001b[1;33m=\u001b[0m \u001b[0mmodel\u001b[0m\u001b[1;33m(\u001b[0m\u001b[0mnode\u001b[0m\u001b[1;33m[\u001b[0m\u001b[1;36m0\u001b[0m\u001b[1;33m]\u001b[0m\u001b[1;33m,\u001b[0m\u001b[0mnode\u001b[0m\u001b[1;33m[\u001b[0m\u001b[1;36m1\u001b[0m\u001b[1;33m]\u001b[0m\u001b[1;33m,\u001b[0m\u001b[0mnode\u001b[0m\u001b[1;33m[\u001b[0m\u001b[1;36m2\u001b[0m\u001b[1;33m]\u001b[0m\u001b[1;33m,\u001b[0m\u001b[0mnode\u001b[0m\u001b[1;33m[\u001b[0m\u001b[1;36m3\u001b[0m\u001b[1;33m]\u001b[0m\u001b[1;33m,\u001b[0m\u001b[0mnode\u001b[0m\u001b[1;33m[\u001b[0m\u001b[1;36m4\u001b[0m\u001b[1;33m]\u001b[0m\u001b[1;33m,\u001b[0m\u001b[0mnode\u001b[0m\u001b[1;33m[\u001b[0m\u001b[1;36m5\u001b[0m\u001b[1;33m]\u001b[0m\u001b[1;33m)\u001b[0m\u001b[1;33m\u001b[0m\u001b[0m\n\u001b[0m\u001b[0;32m      7\u001b[0m         \u001b[0msamples_u\u001b[0m\u001b[1;33m.\u001b[0m\u001b[0mappend\u001b[0m\u001b[1;33m(\u001b[0m\u001b[0my_mat\u001b[0m\u001b[1;33m)\u001b[0m\u001b[1;33m\u001b[0m\u001b[0m\n\u001b[0;32m      8\u001b[0m         \u001b[0msamples_T\u001b[0m\u001b[1;33m.\u001b[0m\u001b[0mappend\u001b[0m\u001b[1;33m(\u001b[0m\u001b[0mT_vec\u001b[0m\u001b[1;33m)\u001b[0m\u001b[1;33m\u001b[0m\u001b[0m\n",
      "\u001b[1;32m<ipython-input-10-77c017935f20>\u001b[0m in \u001b[0;36mmodel\u001b[1;34m(kg, Eg, g, kb, Eb, b)\u001b[0m\n\u001b[0;32m    127\u001b[0m \u001b[1;33m\u001b[0m\u001b[0m\n\u001b[0;32m    128\u001b[0m \u001b[1;33m\u001b[0m\u001b[0m\n\u001b[1;32m--> 129\u001b[1;33m             \u001b[0mfi\u001b[0m \u001b[1;33m=\u001b[0m \u001b[0modeint\u001b[0m\u001b[1;33m(\u001b[0m\u001b[0mfi_ODE\u001b[0m\u001b[1;33m,\u001b[0m\u001b[0mfi_mat\u001b[0m\u001b[1;33m[\u001b[0m\u001b[0mt\u001b[0m\u001b[1;33m,\u001b[0m\u001b[1;33m:\u001b[0m\u001b[1;33m]\u001b[0m\u001b[1;33m,\u001b[0m\u001b[0mt_horizon\u001b[0m\u001b[1;33m,\u001b[0m\u001b[0margs\u001b[0m \u001b[1;33m=\u001b[0m \u001b[1;33m(\u001b[0m\u001b[0my_mat\u001b[0m\u001b[1;33m[\u001b[0m\u001b[0mt\u001b[0m\u001b[1;33m,\u001b[0m\u001b[1;33m:\u001b[0m\u001b[1;33m]\u001b[0m\u001b[1;33m,\u001b[0m\u001b[0mz_mat\u001b[0m\u001b[1;33m[\u001b[0m\u001b[0mt\u001b[0m\u001b[1;33m,\u001b[0m\u001b[1;33m:\u001b[0m\u001b[1;33m]\u001b[0m\u001b[1;33m,\u001b[0m\u001b[0mtheta_mat\u001b[0m\u001b[1;33m[\u001b[0m\u001b[0mt\u001b[0m\u001b[1;33m,\u001b[0m\u001b[1;33m:\u001b[0m\u001b[1;33m]\u001b[0m\u001b[1;33m,\u001b[0m\u001b[0mT\u001b[0m\u001b[1;33m,\u001b[0m\u001b[0mparameters\u001b[0m\u001b[1;33m)\u001b[0m\u001b[1;33m)\u001b[0m\u001b[1;33m\u001b[0m\u001b[0m\n\u001b[0m\u001b[0;32m    130\u001b[0m             \u001b[1;31m#print z[-1,0]\u001b[0m\u001b[1;33m\u001b[0m\u001b[1;33m\u001b[0m\u001b[0m\n\u001b[0;32m    131\u001b[0m             \u001b[0mfi_mat\u001b[0m\u001b[1;33m[\u001b[0m\u001b[0mt\u001b[0m\u001b[1;33m+\u001b[0m\u001b[0mdelta_t\u001b[0m\u001b[1;33m,\u001b[0m\u001b[1;33m:\u001b[0m\u001b[1;33m]\u001b[0m \u001b[1;33m=\u001b[0m \u001b[0mfi\u001b[0m\u001b[1;33m[\u001b[0m\u001b[1;33m-\u001b[0m\u001b[1;36m1\u001b[0m\u001b[1;33m,\u001b[0m\u001b[1;33m:\u001b[0m\u001b[1;33m]\u001b[0m\u001b[1;33m\u001b[0m\u001b[0m\n",
      "\u001b[1;32m/home/tushar/anaconda2/lib/python2.7/site-packages/scipy/integrate/odepack.pyc\u001b[0m in \u001b[0;36modeint\u001b[1;34m(func, y0, t, args, Dfun, col_deriv, full_output, ml, mu, rtol, atol, tcrit, h0, hmax, hmin, ixpr, mxstep, mxhnil, mxordn, mxords, printmessg)\u001b[0m\n\u001b[0;32m    213\u001b[0m     output = _odepack.odeint(func, y0, t, args, Dfun, col_deriv, ml, mu,\n\u001b[0;32m    214\u001b[0m                              \u001b[0mfull_output\u001b[0m\u001b[1;33m,\u001b[0m \u001b[0mrtol\u001b[0m\u001b[1;33m,\u001b[0m \u001b[0matol\u001b[0m\u001b[1;33m,\u001b[0m \u001b[0mtcrit\u001b[0m\u001b[1;33m,\u001b[0m \u001b[0mh0\u001b[0m\u001b[1;33m,\u001b[0m \u001b[0mhmax\u001b[0m\u001b[1;33m,\u001b[0m \u001b[0mhmin\u001b[0m\u001b[1;33m,\u001b[0m\u001b[1;33m\u001b[0m\u001b[0m\n\u001b[1;32m--> 215\u001b[1;33m                              ixpr, mxstep, mxhnil, mxordn, mxords)\n\u001b[0m\u001b[0;32m    216\u001b[0m     \u001b[1;32mif\u001b[0m \u001b[0moutput\u001b[0m\u001b[1;33m[\u001b[0m\u001b[1;33m-\u001b[0m\u001b[1;36m1\u001b[0m\u001b[1;33m]\u001b[0m \u001b[1;33m<\u001b[0m \u001b[1;36m0\u001b[0m\u001b[1;33m:\u001b[0m\u001b[1;33m\u001b[0m\u001b[0m\n\u001b[0;32m    217\u001b[0m         \u001b[0mwarning_msg\u001b[0m \u001b[1;33m=\u001b[0m \u001b[0m_msgs\u001b[0m\u001b[1;33m[\u001b[0m\u001b[0moutput\u001b[0m\u001b[1;33m[\u001b[0m\u001b[1;33m-\u001b[0m\u001b[1;36m1\u001b[0m\u001b[1;33m]\u001b[0m\u001b[1;33m]\u001b[0m \u001b[1;33m+\u001b[0m \u001b[1;34m\" Run with full_output = 1 to get quantitative information.\"\u001b[0m\u001b[1;33m\u001b[0m\u001b[0m\n",
      "\u001b[1;32m/home/tushar/Chemical/PCE/pythonPCE/fi_ODE.pyc\u001b[0m in \u001b[0;36mfi_ODE\u001b[1;34m(fi, t, y, z, theta, T, params)\u001b[0m\n\u001b[0;32m     18\u001b[0m         \u001b[0mG\u001b[0m \u001b[1;33m=\u001b[0m \u001b[0mcalG\u001b[0m\u001b[1;33m(\u001b[0m\u001b[0mT\u001b[0m\u001b[1;33m,\u001b[0m\u001b[0my\u001b[0m\u001b[1;33m[\u001b[0m\u001b[1;36m0\u001b[0m\u001b[1;33m]\u001b[0m\u001b[1;33m,\u001b[0m\u001b[0mparams\u001b[0m\u001b[1;33m)\u001b[0m\u001b[1;33m\u001b[0m\u001b[0m\n\u001b[0;32m     19\u001b[0m \u001b[1;33m\u001b[0m\u001b[0m\n\u001b[1;32m---> 20\u001b[1;33m         \u001b[0mDelG_dely_delT\u001b[0m \u001b[1;33m=\u001b[0m \u001b[0mDG_dydT\u001b[0m\u001b[1;33m(\u001b[0m\u001b[0mtheta\u001b[0m\u001b[1;33m,\u001b[0m\u001b[0mT\u001b[0m\u001b[1;33m,\u001b[0m\u001b[0my\u001b[0m\u001b[1;33m[\u001b[0m\u001b[1;36m0\u001b[0m\u001b[1;33m]\u001b[0m\u001b[1;33m,\u001b[0m\u001b[0mparams\u001b[0m\u001b[1;33m)\u001b[0m\u001b[1;33m\u001b[0m\u001b[0m\n\u001b[0m\u001b[0;32m     21\u001b[0m         \u001b[0mDelB_dely_delT\u001b[0m \u001b[1;33m=\u001b[0m \u001b[0mDB_dydT\u001b[0m\u001b[1;33m(\u001b[0m\u001b[0mtheta\u001b[0m\u001b[1;33m,\u001b[0m\u001b[0my\u001b[0m\u001b[1;33m,\u001b[0m\u001b[0mT\u001b[0m\u001b[1;33m,\u001b[0m\u001b[0mparams\u001b[0m\u001b[1;33m)\u001b[0m\u001b[1;33m\u001b[0m\u001b[0m\n\u001b[0;32m     22\u001b[0m         \u001b[0mDelG_dT\u001b[0m \u001b[1;33m=\u001b[0m \u001b[0mDG_dT\u001b[0m\u001b[1;33m(\u001b[0m\u001b[0mtheta\u001b[0m\u001b[1;33m,\u001b[0m\u001b[0mT\u001b[0m\u001b[1;33m,\u001b[0m\u001b[0my\u001b[0m\u001b[1;33m[\u001b[0m\u001b[1;36m0\u001b[0m\u001b[1;33m]\u001b[0m\u001b[1;33m,\u001b[0m\u001b[0mparams\u001b[0m\u001b[1;33m)\u001b[0m\u001b[1;33m\u001b[0m\u001b[0m\n",
      "\u001b[1;32m/home/tushar/Chemical/PCE/pythonPCE/utilities.pyc\u001b[0m in \u001b[0;36mDG_dydT\u001b[1;34m(theta, T, C, params)\u001b[0m\n\u001b[0;32m    130\u001b[0m         \u001b[0mexper\u001b[0m \u001b[1;33m=\u001b[0m \u001b[1;33m(\u001b[0m\u001b[0mCs\u001b[0m\u001b[1;33m*\u001b[0m\u001b[1;33m(\u001b[0m\u001b[0mtheta\u001b[0m\u001b[1;33m[\u001b[0m\u001b[1;36m0\u001b[0m\u001b[1;33m]\u001b[0m \u001b[1;33m-\u001b[0m \u001b[0mDCs_dT\u001b[0m\u001b[1;33m)\u001b[0m \u001b[1;33m-\u001b[0m \u001b[0mDCs_dT\u001b[0m \u001b[1;33m*\u001b[0m \u001b[1;33m(\u001b[0m\u001b[0mC\u001b[0m \u001b[1;33m-\u001b[0m \u001b[0mCs\u001b[0m\u001b[1;33m)\u001b[0m\u001b[1;33m)\u001b[0m\u001b[1;33m/\u001b[0m\u001b[0mCs\u001b[0m\u001b[1;33m**\u001b[0m\u001b[1;36m2\u001b[0m\u001b[1;33m\u001b[0m\u001b[0m\n\u001b[0;32m    131\u001b[0m         \u001b[0mS\u001b[0m  \u001b[1;33m=\u001b[0m \u001b[1;33m(\u001b[0m\u001b[0mC\u001b[0m\u001b[1;33m-\u001b[0m \u001b[0mCs\u001b[0m\u001b[1;33m)\u001b[0m\u001b[1;33m/\u001b[0m\u001b[0mCs\u001b[0m\u001b[1;33m\u001b[0m\u001b[0m\n\u001b[1;32m--> 132\u001b[1;33m         \u001b[0mA\u001b[0m \u001b[1;33m=\u001b[0m \u001b[0mkg\u001b[0m\u001b[1;33m*\u001b[0m\u001b[0mg\u001b[0m\u001b[1;33m*\u001b[0m\u001b[0mnp\u001b[0m\u001b[1;33m.\u001b[0m\u001b[0mexp\u001b[0m\u001b[1;33m(\u001b[0m\u001b[1;33m-\u001b[0m\u001b[0mEg\u001b[0m\u001b[1;33m/\u001b[0m\u001b[0mT\u001b[0m\u001b[1;33m)\u001b[0m\u001b[1;33m*\u001b[0m\u001b[0mS\u001b[0m\u001b[1;33m**\u001b[0m\u001b[1;33m(\u001b[0m\u001b[0mg\u001b[0m\u001b[1;33m-\u001b[0m\u001b[1;36m1\u001b[0m\u001b[1;33m)\u001b[0m\u001b[1;33m*\u001b[0m\u001b[1;33m(\u001b[0m\u001b[0mEg\u001b[0m\u001b[1;33m/\u001b[0m\u001b[0mT\u001b[0m\u001b[1;33m**\u001b[0m\u001b[1;36m2\u001b[0m\u001b[1;33m)\u001b[0m\u001b[1;33m/\u001b[0m\u001b[0mCs\u001b[0m\u001b[1;33m\u001b[0m\u001b[0m\n\u001b[0m\u001b[0;32m    133\u001b[0m         \u001b[0mB\u001b[0m \u001b[1;33m=\u001b[0m \u001b[0mkg\u001b[0m\u001b[1;33m*\u001b[0m\u001b[0mg\u001b[0m\u001b[1;33m*\u001b[0m\u001b[0mnp\u001b[0m\u001b[1;33m.\u001b[0m\u001b[0mexp\u001b[0m\u001b[1;33m(\u001b[0m\u001b[1;33m-\u001b[0m\u001b[0mEg\u001b[0m\u001b[1;33m/\u001b[0m\u001b[0mT\u001b[0m\u001b[1;33m)\u001b[0m\u001b[1;33m*\u001b[0m\u001b[1;33m(\u001b[0m\u001b[0mg\u001b[0m\u001b[1;33m-\u001b[0m\u001b[1;36m1\u001b[0m\u001b[1;33m)\u001b[0m\u001b[1;33m*\u001b[0m\u001b[0mS\u001b[0m\u001b[1;33m**\u001b[0m\u001b[1;33m(\u001b[0m\u001b[0mg\u001b[0m\u001b[1;33m-\u001b[0m\u001b[1;36m2\u001b[0m\u001b[1;33m)\u001b[0m\u001b[1;33m*\u001b[0m\u001b[0mexper\u001b[0m\u001b[1;33m/\u001b[0m\u001b[0mCs\u001b[0m\u001b[1;33m\u001b[0m\u001b[0m\n\u001b[0;32m    134\u001b[0m         \u001b[0mC\u001b[0m \u001b[1;33m=\u001b[0m \u001b[1;33m-\u001b[0m\u001b[1;36m1\u001b[0m\u001b[1;33m*\u001b[0m\u001b[0mkg\u001b[0m\u001b[1;33m*\u001b[0m\u001b[0mg\u001b[0m\u001b[1;33m*\u001b[0m\u001b[0mnp\u001b[0m\u001b[1;33m.\u001b[0m\u001b[0mexp\u001b[0m\u001b[1;33m(\u001b[0m\u001b[1;33m-\u001b[0m\u001b[0mEg\u001b[0m\u001b[1;33m/\u001b[0m\u001b[0mT\u001b[0m\u001b[1;33m)\u001b[0m\u001b[1;33m*\u001b[0m\u001b[0mS\u001b[0m\u001b[1;33m**\u001b[0m\u001b[1;33m(\u001b[0m\u001b[0mg\u001b[0m\u001b[1;33m-\u001b[0m\u001b[1;36m1\u001b[0m\u001b[1;33m)\u001b[0m\u001b[1;33m*\u001b[0m\u001b[0mDCs_dT\u001b[0m\u001b[1;33m/\u001b[0m\u001b[0mCs\u001b[0m\u001b[1;33m**\u001b[0m\u001b[1;36m2\u001b[0m\u001b[1;33m\u001b[0m\u001b[0m\n",
      "\u001b[1;31mKeyboardInterrupt\u001b[0m: "
     ]
    }
   ],
   "source": [
    "i = 0 \n",
    "\n",
    "with tqdm_notebook(total = len(nodes[0])) as pbar :\n",
    "    for node in nodes.T:\n",
    "        #print i \n",
    "        T_vec,y_mat = model(node[0],node[1],node[2],node[3],node[4],node[5])\n",
    "        samples_u.append(y_mat)\n",
    "        samples_T.append(T_vec)\n",
    "        i+=1\n",
    "        pbar.update(i)"
   ]
  },
  {
   "cell_type": "code",
   "execution_count": 8,
   "metadata": {
    "collapsed": false
   },
   "outputs": [],
   "source": [
    "samples_u[1][1800]\n",
    "\n",
    "for i in range(729):\n",
    "    z_samples = samples_u[i][:]\n",
    "    z_obj = [i[4] - i[8] for i in z_samples]\n",
    "    ##z_9 = [i[8] for i in z_samples]\n",
    "    plt.plot(range(0,1801,1),z_obj)\n",
    "    \n",
    "plt.show()"
   ]
  },
  {
   "cell_type": "code",
   "execution_count": 9,
   "metadata": {
    "collapsed": false
   },
   "outputs": [
    {
     "data": {
      "text/plain": [
       "1801"
      ]
     },
     "execution_count": 9,
     "metadata": {},
     "output_type": "execute_result"
    }
   ],
   "source": [
    "z =samples_u[0][:]\n",
    "len(z)"
   ]
  },
  {
   "cell_type": "code",
   "execution_count": 10,
   "metadata": {
    "collapsed": false
   },
   "outputs": [],
   "source": [
    "z_C = [i[0] for i in z]\n",
    "plt.plot(range(0,1801,1),z_C)\n",
    "plt.show()"
   ]
  },
  {
   "cell_type": "code",
   "execution_count": 11,
   "metadata": {
    "collapsed": false
   },
   "outputs": [],
   "source": [
    "U_hat = cp.fit_quadrature(P, nodes, weights, samples_u)"
   ]
  },
  {
   "cell_type": "code",
   "execution_count": 12,
   "metadata": {
    "collapsed": false
   },
   "outputs": [],
   "source": [
    "mean = cp.E(U_hat,dist)"
   ]
  },
  {
   "cell_type": "code",
   "execution_count": 24,
   "metadata": {
    "collapsed": false
   },
   "outputs": [],
   "source": [
    "z = [i[4] - i[8] for i in mean]\n",
    "\n",
    "plt.plot(range(0,1801,1),z)\n",
    "plt.show()"
   ]
  },
  {
   "cell_type": "code",
   "execution_count": 14,
   "metadata": {
    "collapsed": false
   },
   "outputs": [
    {
     "name": "stdout",
     "output_type": "stream",
     "text": [
      "-5.09645500594e-14q0+2.26822312187e-08q1+2.41568387264e-05q2-3.98962549605e-17q3+3.5099382173e-17q4+3.76365745063e-14q5+0.174153574074\n"
     ]
    }
   ],
   "source": [
    "print U_hat[1][0]"
   ]
  },
  {
   "cell_type": "code",
   "execution_count": 17,
   "metadata": {
    "collapsed": false
   },
   "outputs": [],
   "source": [
    "T_hat = cp.fit_quadrature(P, nodes, weights, samples_T)"
   ]
  },
  {
   "cell_type": "code",
   "execution_count": 20,
   "metadata": {
    "collapsed": false
   },
   "outputs": [],
   "source": [
    "mean_T = cp.E(T_hat,dist)"
   ]
  },
  {
   "cell_type": "code",
   "execution_count": 23,
   "metadata": {
    "collapsed": false
   },
   "outputs": [],
   "source": [
    "plt.plot(range(0,1801,1),mean_T)\n",
    "plt.show()"
   ]
  }
 ],
 "metadata": {
  "kernelspec": {
   "display_name": "Python [Root]",
   "language": "python",
   "name": "Python [Root]"
  },
  "language_info": {
   "codemirror_mode": {
    "name": "ipython",
    "version": 2
   },
   "file_extension": ".py",
   "mimetype": "text/x-python",
   "name": "python",
   "nbconvert_exporter": "python",
   "pygments_lexer": "ipython2",
   "version": "2.7.12"
  }
 },
 "nbformat": 4,
 "nbformat_minor": 2
}
