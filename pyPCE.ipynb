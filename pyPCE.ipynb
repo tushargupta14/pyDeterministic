{
 "cells": [
  {
   "cell_type": "code",
   "execution_count": 1,
   "metadata": {
    "collapsed": true
   },
   "outputs": [],
   "source": [
    "import numpy as np\n",
    "from scipy.integrate import odeint\n",
    "from y_ODE import *\n",
    "from utilities import *\n",
    "import pylab\n"
   ]
  },
  {
   "cell_type": "code",
   "execution_count": 19,
   "metadata": {
    "collapsed": true
   },
   "outputs": [],
   "source": [
    "\n",
    "def model(parameters,delta_t = 1,):\n",
    "\n",
    "\n",
    "    t0 = 0\n",
    "    tf = 1800  ## batch_time\n",
    "\n",
    "    kg = parameters[\"kg\"]\n",
    "    Eg = parameters[\"Eg\"]\n",
    "    g = parameters[\"g\"]\n",
    "    kb = parameters[\"kb\"]\n",
    "    Eb = parameters[\"Eb\"]\n",
    "    b = parameters[\"b\"]\n",
    "    #rho = parameters[\"rho\"]\n",
    "\n",
    "\n",
    "    y0 = np.array([0.1743,66.66,1.83*10**4,5.05*10**6,1.93*10**9,0.867,0,0,0])\n",
    "    y0 = y0.reshape(1,-1)\n",
    "    zf = np.array([0,0,0,0,1,0,0,0,-1])\n",
    "    zf = zf.reshape(1,-1)\n",
    "    theta0 = np.array([0,0,0,0,0,0,0,0,0])\n",
    "    theta0 = theta0.reshape(1,-1)\n",
    "    fi_f = np.array([0,0,0,0,0,0,0,0,0])\n",
    "    fi_f = fi_f.reshape(1,-1)\n",
    "\n",
    "    M = -10**-7\n",
    "    tolerance = 10**-2\n",
    "\n",
    "    num_iter = 1\n",
    "\n",
    "    time_length = len(range(t0,tf+delta_t,delta_t))\n",
    "    T_vec = np.ones(time_length)*323\n",
    "    DH_vec = np.zeros((num_iter,time_length))\n",
    "\n",
    "\n",
    "\n",
    "    iteration = 1\n",
    "\n",
    "\n",
    "    print y0.shape\n",
    "\n",
    "\n",
    "    while(iteration <= num_iter) :\n",
    "\n",
    "        y_mat = np.zeros((time_length,9))\n",
    "        #z_mat = np.zeros((time_length,9))\n",
    "        #theta_mat = np.zeros((time_length,9))\n",
    "        #fi_mat = np.zeros((time_length,9))\n",
    "\n",
    "        DelH_dy_mat = np.zeros((time_length,9))\n",
    "        DelH_dz_mat = np.zeros((time_length,9))\n",
    "\n",
    "        y_mat[0,:] = y0\n",
    "        #print y_mat[0,0]\n",
    "        #z_mat[-1,:] = zf\n",
    "        #theta_mat[0,:] = theta0\n",
    "        #fi_mat[-1,:] = fi_f\n",
    "\n",
    "        for t in range(t0,tf,delta_t) :\n",
    "            #print t \n",
    "            t_horizon = np.linspace(t,t+delta_t,num = 10)\n",
    "            #print t_horizon\n",
    "            T = T_vec[t]\n",
    "            C = y_mat[t,0]\n",
    "            G = calG(T,C,parameters)\n",
    "            B = calB(y_mat[t,:],T,parameters)\n",
    "\n",
    "            y = odeint(y_ODE,y_mat[t,:],t_horizon,args = (T,C,G,B,parameters))\n",
    "\n",
    "            y_mat[t+delta_t,:] = y[-1,:]\n",
    "\n",
    "        #print y \n",
    "        iteration+=1\n",
    "\n",
    "\n",
    "\n",
    "    plt_y =  y_mat[:,3]\n",
    "\n",
    "    ## Plotting function \n",
    "\n",
    "    t = np.linspace(t0,tf,num = 1801)\n",
    "    pylab.plot(t,plt_y)\n",
    "    plt.show()\n",
    "\n"
   ]
  },
  {
   "cell_type": "code",
   "execution_count": 20,
   "metadata": {
    "collapsed": false
   },
   "outputs": [
    {
     "name": "stdout",
     "output_type": "stream",
     "text": [
      "(1, 9)\n"
     ]
    }
   ],
   "source": [
    "parameters = {}\n",
    "parameters[\"kg\"] = 1.44*10**8\n",
    "parameters[\"Eg\"] = 4859 \n",
    "parameters[\"g\"] = 1.5\n",
    "parameters[\"kb\"] = 285\n",
    "parameters[\"Eb\"] = 7517\n",
    "parameters[\"b\"] = 1.45\n",
    "parameters[\"rho\"] = 2.66*10**-12;\n",
    "parameters[\"kv\"] = 0.54\n",
    "model(parameters)"
   ]
  },
  {
   "cell_type": "code",
   "execution_count": 7,
   "metadata": {
    "collapsed": false
   },
   "outputs": [],
   "source": [
    "\n",
    "\n"
   ]
  }
 ],
 "metadata": {
  "kernelspec": {
   "display_name": "Python [Root]",
   "language": "python",
   "name": "Python [Root]"
  },
  "language_info": {
   "codemirror_mode": {
    "name": "ipython",
    "version": 2
   },
   "file_extension": ".py",
   "mimetype": "text/x-python",
   "name": "python",
   "nbconvert_exporter": "python",
   "pygments_lexer": "ipython2",
   "version": "2.7.12"
  }
 },
 "nbformat": 4,
 "nbformat_minor": 2
}
