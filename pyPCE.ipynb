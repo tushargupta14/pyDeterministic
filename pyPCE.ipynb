{
 "cells": [
  {
   "cell_type": "code",
   "execution_count": 3,
   "metadata": {
    "collapsed": true
   },
   "outputs": [],
   "source": [
    "import numpy as np\n",
    "from scipy.integrate import odeint\n",
    "from y_ODE import *\n",
    "from z_ODE import *\n",
    "from utilities import *\n",
    "import pylab\n",
    "import matplotlib.pyplot as plt "
   ]
  },
  {
   "cell_type": "code",
   "execution_count": 11,
   "metadata": {
    "collapsed": false
   },
   "outputs": [],
   "source": [
    "\n",
    "def model(parameters,delta_t = 1,):\n",
    "\n",
    "\n",
    "    t0 = 0\n",
    "    tf = 1800  ## batch_time\n",
    "\n",
    "    kg = parameters[\"kg\"]\n",
    "    Eg = parameters[\"Eg\"]\n",
    "    g = parameters[\"g\"]\n",
    "    kb = parameters[\"kb\"]\n",
    "    Eb = parameters[\"Eb\"]\n",
    "    b = parameters[\"b\"]\n",
    "    #rho = parameters[\"rho\"]\n",
    "\n",
    "\n",
    "    y0 = np.array([0.1743,66.66,1.83*10**4,5.05*10**6,1.93*10**9,0.867,0,0,0])\n",
    "    y0 = y0.reshape(1,-1)\n",
    "    zf = np.array([0,0,0,0,1,0,0,0,-1])\n",
    "    zf = zf.reshape(1,-1)\n",
    "    theta0 = np.array([0,0,0,0,0,0,0,0,0])\n",
    "    theta0 = theta0.reshape(1,-1)\n",
    "    fi_f = np.array([0,0,0,0,0,0,0,0,0])\n",
    "    fi_f = fi_f.reshape(1,-1)\n",
    "\n",
    "    M = -10**-7\n",
    "    tolerance = 10**-2\n",
    "\n",
    "    num_iter = 1\n",
    "\n",
    "    time_length = len(range(t0,tf+delta_t,delta_t))\n",
    "    T_vec = np.ones(time_length)*323\n",
    "    DH_vec = np.zeros((num_iter,time_length))\n",
    "\n",
    "\n",
    "\n",
    "    iteration = 1\n",
    "\n",
    "\n",
    "    print y0.shape\n",
    "\n",
    "\n",
    "    while(iteration <= num_iter) :\n",
    "\n",
    "        y_mat = np.zeros((time_length,9))\n",
    "        z_mat = np.zeros((time_length,9))\n",
    "        #theta_mat = np.zeros((time_length,9))\n",
    "        #fi_mat = np.zeros((time_length,9))\n",
    "\n",
    "        DelH_dy_mat = np.zeros((time_length,9))\n",
    "        DelH_dz_mat = np.zeros((time_length,9))\n",
    "\n",
    "        y_mat[0,:] = y0\n",
    "        #print y_mat[0,0]\n",
    "        z_mat[-1,:] = zf\n",
    "        #theta_mat[0,:] = theta0\n",
    "        #fi_mat[-1,:] = fi_f\n",
    "\n",
    "        for t in range(t0,tf,delta_t) :\n",
    "            #print t \n",
    "            t_horizon = np.linspace(t,t+delta_t,num = 10)\n",
    "            #print t_horizon\n",
    "            T = T_vec[t]\n",
    "            C = y_mat[t,0]\n",
    "            G = calG(T,C,parameters)\n",
    "            B = calB(y_mat[t,:],T,parameters)\n",
    "\n",
    "            y = odeint(y_ODE,y_mat[t,:],t_horizon,args = (T,C,G,B,parameters))\n",
    "\n",
    "            y_mat[t+delta_t,:] = y[-1,:]\n",
    "\n",
    "        for t in range(tf,t0,-delta_t):\n",
    "            #print t \n",
    "            t_horizon = np.linspace(t,t-delta_t,num =10)\n",
    "            #print t_horizon\n",
    "            T = T_vec[t]\n",
    "            C = y_mat[t,0]\n",
    "            G = calG(T,C,parameters)\n",
    "            #B = calB(y_mat[t,:],T,parameters)\n",
    "\n",
    "            z = odeint(z_ODE,z_mat[t,:],t_horizon,args = (G,parameters,T,y_mat[t,:]))\t\t\t\n",
    "            z_mat[t-delta_t,:] = z[-1,:]\n",
    "        iteration+=1\n",
    "\n",
    "    print z_mat\n",
    "\n",
    "\n",
    "\n",
    "\n",
    "    plt_z =  z_mat[:,8]\n",
    "\n",
    "    ## Plotting function \n",
    "\n",
    "    t = np.linspace(t0,tf,num = 1801)\n",
    "    plt.plot(t,plt_z)\n",
    "    plt.show()\n",
    "\n"
   ]
  },
  {
   "cell_type": "code",
   "execution_count": 12,
   "metadata": {
    "collapsed": false
   },
   "outputs": [
    {
     "name": "stdout",
     "output_type": "stream",
     "text": [
      "(1, 9)\n",
      "[[  6.12033045e+11   1.31395825e+06   2.29700894e+04 ...,  -1.09849854e+05\n",
      "   -7.77707031e+02  -1.11995023e+00]\n",
      " [  6.11623088e+11   1.30703035e+06   2.29006178e+04 ...,  -1.09380569e+05\n",
      "   -7.75896212e+02  -1.11896183e+00]\n",
      " [  6.11214505e+11   1.30013436e+06   2.28312576e+04 ...,  -1.08913119e+05\n",
      "   -7.74089684e+02  -1.11798113e+00]\n",
      " ..., \n",
      " [  1.43029650e+09   8.79750014e-06   1.27669547e-03 ...,  -1.27844990e-03\n",
      "   -6.19725892e-02  -1.00000000e+00]\n",
      " [  7.15482824e+08   1.09591298e-06   3.18835283e-04 ...,  -3.19053880e-04\n",
      "   -3.09486281e-02  -1.00000000e+00]\n",
      " [  0.00000000e+00   0.00000000e+00   0.00000000e+00 ...,   0.00000000e+00\n",
      "    0.00000000e+00  -1.00000000e+00]]\n"
     ]
    }
   ],
   "source": [
    "parameters = {}\n",
    "parameters[\"kg\"] = 1.44*10**8\n",
    "parameters[\"Eg\"] = 4859 \n",
    "parameters[\"g\"] = 1.5\n",
    "parameters[\"kb\"] = 285\n",
    "parameters[\"Eb\"] = 7517\n",
    "parameters[\"b\"] = 1.45\n",
    "parameters[\"rho\"] = 2.66*10**-12;\n",
    "parameters[\"kv\"] = 0.54\n",
    "model(parameters)"
   ]
  },
  {
   "cell_type": "code",
   "execution_count": 13,
   "metadata": {
    "collapsed": false
   },
   "outputs": [
    {
     "ename": "NameError",
     "evalue": "name 'z_mat' is not defined",
     "output_type": "error",
     "traceback": [
      "\u001b[1;31m---------------------------------------------------------------\u001b[0m",
      "\u001b[1;31mNameError\u001b[0m                     Traceback (most recent call last)",
      "\u001b[1;32m<ipython-input-13-2efdec518e93>\u001b[0m in \u001b[0;36m<module>\u001b[1;34m()\u001b[0m\n\u001b[1;32m----> 1\u001b[1;33m \u001b[0mz_mat\u001b[0m\u001b[1;33m\u001b[0m\u001b[0m\n\u001b[0m",
      "\u001b[1;31mNameError\u001b[0m: name 'z_mat' is not defined"
     ]
    }
   ],
   "source": [
    "z_mat"
   ]
  },
  {
   "cell_type": "code",
   "execution_count": 25,
   "metadata": {
    "collapsed": false
   },
   "outputs": [
    {
     "name": "stderr",
     "output_type": "stream",
     "text": [
      "/home/tushar/anaconda2/lib/python2.7/site-packages/ipykernel/__main__.py:9: DeprecationWarning: object of type <type 'float'> cannot be safely interpreted as an integer.\n"
     ]
    },
    {
     "name": "stdout",
     "output_type": "stream",
     "text": [
      "[]\n"
     ]
    }
   ],
   "source": [
    "def f(y, t):\n",
    "    \"\"\"this is the rhs of the ODE to integrate, i.e. dy/dt=f(y,t)\"\"\"\n",
    "    return -2 * y * t\n",
    "\n",
    "y0 = 1             # initial value\n",
    "a = 2              # integration limits for t\n",
    "b = 0\n",
    "\n",
    "t = np.linspace(a, b,num = 0.01)  # values of t for\n",
    "print t                           # which we require\n",
    "                          # the solution y(t)\n",
    "y = odeint(f, y0, t)  # actual computation of y(t)\n",
    "         # plotting of results\n",
    "pylab.plot(t, y)\n",
    "pylab.xlabel('t'); pylab.ylabel('y(t)')\n",
    "plt.show()\n"
   ]
  }
 ],
 "metadata": {
  "kernelspec": {
   "display_name": "Python [Root]",
   "language": "python",
   "name": "Python [Root]"
  },
  "language_info": {
   "codemirror_mode": {
    "name": "ipython",
    "version": 2
   },
   "file_extension": ".py",
   "mimetype": "text/x-python",
   "name": "python",
   "nbconvert_exporter": "python",
   "pygments_lexer": "ipython2",
   "version": "2.7.12"
  }
 },
 "nbformat": 4,
 "nbformat_minor": 2
}
