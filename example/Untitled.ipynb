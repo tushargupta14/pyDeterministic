{
 "cells": [
  {
   "cell_type": "code",
   "execution_count": 2,
   "metadata": {
    "collapsed": true,
    "deletable": true,
    "editable": true
   },
   "outputs": [],
   "source": [
    "import matplotlib.pyplot as plt \n",
    "import numpy as np "
   ]
  },
  {
   "cell_type": "code",
   "execution_count": 21,
   "metadata": {
    "collapsed": false,
    "deletable": true,
    "editable": true
   },
   "outputs": [],
   "source": [
    "## cooling profile \n",
    "\n",
    "t = np.arange(0.0,49.0,1.0)\n",
    "\n",
    "def T(t):\n",
    "    #x =  1.0-(t/(240.0))**(0.2)\n",
    "    \n",
    "    #x =  45 - 20*(t/(240.0))**(0.5)\n",
    "    #x =  45.0 - (20.0)*(t/(240.0))\n",
    "   \n",
    "    x =  45.0 - (20.0)*(t/(240.0))**(0.8)\n",
    "    #if(100>=t>=50):\n",
    "        #x = 40.833 - \n",
    "        \n",
    "    return x"
   ]
  },
  {
   "cell_type": "code",
   "execution_count": 22,
   "metadata": {
    "collapsed": false,
    "deletable": true,
    "editable": true
   },
   "outputs": [
    {
     "name": "stdout",
     "output_type": "stream",
     "text": [
      "44.3834754749 -\n"
     ]
    }
   ],
   "source": [
    "\n",
    "print T(3.1),\"-\"\n",
    "plt.plot(t,T(t))\n",
    "plt.show()"
   ]
  },
  {
   "cell_type": "code",
   "execution_count": 122,
   "metadata": {
    "collapsed": true,
    "deletable": true,
    "editable": true
   },
   "outputs": [],
   "source": [
    "t = np.arange(0,240,1)\n",
    "plt.plot(t,T(t))\n",
    "plt.show()"
   ]
  },
  {
   "cell_type": "code",
   "execution_count": 123,
   "metadata": {
    "collapsed": true,
    "deletable": true,
    "editable": true
   },
   "outputs": [],
   "source": [
    "T_vec = [T(t) for t in np.arange(0,240,1)]"
   ]
  },
  {
   "cell_type": "code",
   "execution_count": 27,
   "metadata": {
    "collapsed": false,
    "deletable": true,
    "editable": true
   },
   "outputs": [],
   "source": [
    "t = np.arange(0.0,10,1.0)\n",
    "plt.plot(t,-t**4+4)\n",
    "plt.show()"
   ]
  }
 ],
 "metadata": {
  "kernelspec": {
   "display_name": "Python [Root]",
   "language": "python",
   "name": "Python [Root]"
  },
  "language_info": {
   "codemirror_mode": {
    "name": "ipython",
    "version": 2
   },
   "file_extension": ".py",
   "mimetype": "text/x-python",
   "name": "python",
   "nbconvert_exporter": "python",
   "pygments_lexer": "ipython2",
   "version": "2.7.12"
  }
 },
 "nbformat": 4,
 "nbformat_minor": 2
}
